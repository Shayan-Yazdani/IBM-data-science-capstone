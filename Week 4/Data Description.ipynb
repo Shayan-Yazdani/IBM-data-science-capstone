{
 "cells": [
  {
   "cell_type": "markdown",
   "metadata": {},
   "source": [
    "## Data Description\n",
    "\n",
    "\n",
    "\n",
    "Will use the list of postal codes of Toronto that we used in week 3. Postal codes beginning with M are located within the city of Toronto in the province of Ontario. Only the first three characters are listed, corresponding to the Forward Sortation Area.\n",
    "\n",
    "Data Link: https://en.wikipedia.org/wiki/List_of_postal_codes_of_Canada:_M\n",
    "\n",
    "#### Foursquare API Data:\n",
    "\n",
    "We  need to find out the location of all the grocery stores in the city of toronto. In order to get the required information, we will use \"Foursquare\" locational information. Foursquare is a local search services company that offers its service on the mobile platform as well as a website. The Foursquare API allows application developers to interact with the Foursquare platformLog in to Foursquare as a developer in order to get the idea of the API request and response patterns. \n",
    "\n",
    "\n",
    "The final data frame which will be used in this study contains columns with following information:\n",
    "\n",
    "1. Neighborhood\n",
    "2. Neighborhood Latitude\n",
    "3. Neighborhood Longitude\n",
    "4. Venue\n",
    "5. Venue Latitude\n",
    "6. Venue Longitude\n",
    "7. Venue Category"
   ]
  }
 ],
 "metadata": {
  "kernelspec": {
   "display_name": "Python 3",
   "language": "python",
   "name": "python3"
  },
  "language_info": {
   "codemirror_mode": {
    "name": "ipython",
    "version": 3
   },
   "file_extension": ".py",
   "mimetype": "text/x-python",
   "name": "python",
   "nbconvert_exporter": "python",
   "pygments_lexer": "ipython3",
   "version": "3.6.8"
  }
 },
 "nbformat": 4,
 "nbformat_minor": 2
}
