{
 "cells": [
  {
   "attachments": {},
   "cell_type": "markdown",
   "metadata": {},
   "source": [
    "## Business Proposal\n",
    "\n",
    "### Introduction\n",
    "<br />\n",
    "In this project I want to explore the possible neighborhoods for a grocery store in the city of Toronto. Entrepreneurs of small businesses like grocery stores will have to pay attention to competition. For example, it is common to see several grocery stores in a community. Business owners should review their competitors to provide better buying conditions when they want to win customers.<br />\n",
    "The location should be sufficient to meet the needs of a grocery store designed by an entrepreneur. \n",
    "<br />\n",
    "\n",
    "### Methods\n",
    "<br />\n",
    "In this project I want to anlayze the possible locations for a grocery store using clustering algorithms such as k-means. The features that i am going to use are longitude and latitude of previous stores in different locations.<br />\n",
    "In order to find the appropriate number of clusters I will use Silhouette score. Silhouette can be used to validate the consistency between resulting clusters of data. Silhouette score works using the average distance between points within cluster and the other cluster.\n",
    "<br />\n",
    "\n",
    "### Required Libraries\n",
    "\n",
    "<br />\n",
    "Pandas\n",
    "\n",
    "Folium \n",
    "\n",
    "Scikit Learn \n",
    "\n",
    "JSON\n",
    "\n",
    "XML\n",
    "\n",
    "Geocoder\n",
    "\n",
    "Matplotlib\n"
   ]
  }
 ],
 "metadata": {
  "kernelspec": {
   "display_name": "Python 3",
   "language": "python",
   "name": "python3"
  },
  "language_info": {
   "codemirror_mode": {
    "name": "ipython",
    "version": 3
   },
   "file_extension": ".py",
   "mimetype": "text/x-python",
   "name": "python",
   "nbconvert_exporter": "python",
   "pygments_lexer": "ipython3",
   "version": "3.6.8"
  }
 },
 "nbformat": 4,
 "nbformat_minor": 2
}
